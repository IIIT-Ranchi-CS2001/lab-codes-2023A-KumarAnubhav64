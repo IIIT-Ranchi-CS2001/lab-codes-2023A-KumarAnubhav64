{
 "cells": [
  {
   "cell_type": "code",
   "execution_count": null,
   "metadata": {},
   "outputs": [],
   "source": [
    "import pandas as pd # Importing Mocules\n",
    "import numpy as np\n",
    "df = pd.read_csv(\"AQI_Data.csv\") # Reading CSV\n"
   ]
  },
  {
   "cell_type": "code",
   "execution_count": 95,
   "metadata": {},
   "outputs": [
    {
     "name": "stdout",
     "output_type": "stream",
     "text": [
      "First Five rows\n"
     ]
    },
    {
     "data": {
      "text/html": [
       "<div>\n",
       "<style scoped>\n",
       "    .dataframe tbody tr th:only-of-type {\n",
       "        vertical-align: middle;\n",
       "    }\n",
       "\n",
       "    .dataframe tbody tr th {\n",
       "        vertical-align: top;\n",
       "    }\n",
       "\n",
       "    .dataframe thead th {\n",
       "        text-align: right;\n",
       "    }\n",
       "</style>\n",
       "<table border=\"1\" class=\"dataframe\">\n",
       "  <thead>\n",
       "    <tr style=\"text-align: right;\">\n",
       "      <th></th>\n",
       "      <th>City</th>\n",
       "      <th>Date</th>\n",
       "      <th>AQI</th>\n",
       "      <th>PM2.5</th>\n",
       "      <th>PM10</th>\n",
       "      <th>NO2</th>\n",
       "      <th>CO</th>\n",
       "      <th>O3</th>\n",
       "      <th>SO2</th>\n",
       "    </tr>\n",
       "  </thead>\n",
       "  <tbody>\n",
       "    <tr>\n",
       "      <th>0</th>\n",
       "      <td>Delhi</td>\n",
       "      <td>2024-01-01</td>\n",
       "      <td>152</td>\n",
       "      <td>153</td>\n",
       "      <td>151</td>\n",
       "      <td>26.509131</td>\n",
       "      <td>1.581413</td>\n",
       "      <td>123.401530</td>\n",
       "      <td>25.062474</td>\n",
       "    </tr>\n",
       "    <tr>\n",
       "      <th>1</th>\n",
       "      <td>Delhi</td>\n",
       "      <td>2024-01-02</td>\n",
       "      <td>264</td>\n",
       "      <td>288</td>\n",
       "      <td>268</td>\n",
       "      <td>87.955853</td>\n",
       "      <td>1.242119</td>\n",
       "      <td>144.533790</td>\n",
       "      <td>5.926302</td>\n",
       "    </tr>\n",
       "    <tr>\n",
       "      <th>2</th>\n",
       "      <td>Delhi</td>\n",
       "      <td>2024-01-03</td>\n",
       "      <td>307</td>\n",
       "      <td>344</td>\n",
       "      <td>357</td>\n",
       "      <td>94.469744</td>\n",
       "      <td>0.101480</td>\n",
       "      <td>198.520196</td>\n",
       "      <td>32.786668</td>\n",
       "    </tr>\n",
       "    <tr>\n",
       "      <th>3</th>\n",
       "      <td>Delhi</td>\n",
       "      <td>2024-01-04</td>\n",
       "      <td>363</td>\n",
       "      <td>334</td>\n",
       "      <td>347</td>\n",
       "      <td>12.075618</td>\n",
       "      <td>1.097072</td>\n",
       "      <td>85.973585</td>\n",
       "      <td>7.099955</td>\n",
       "    </tr>\n",
       "    <tr>\n",
       "      <th>4</th>\n",
       "      <td>Delhi</td>\n",
       "      <td>2024-01-05</td>\n",
       "      <td>237</td>\n",
       "      <td>266</td>\n",
       "      <td>250</td>\n",
       "      <td>51.046299</td>\n",
       "      <td>1.591834</td>\n",
       "      <td>47.938019</td>\n",
       "      <td>28.140550</td>\n",
       "    </tr>\n",
       "  </tbody>\n",
       "</table>\n",
       "</div>"
      ],
      "text/plain": [
       "    City        Date  AQI  PM2.5  PM10        NO2        CO          O3  \\\n",
       "0  Delhi  2024-01-01  152    153   151  26.509131  1.581413  123.401530   \n",
       "1  Delhi  2024-01-02  264    288   268  87.955853  1.242119  144.533790   \n",
       "2  Delhi  2024-01-03  307    344   357  94.469744  0.101480  198.520196   \n",
       "3  Delhi  2024-01-04  363    334   347  12.075618  1.097072   85.973585   \n",
       "4  Delhi  2024-01-05  237    266   250  51.046299  1.591834   47.938019   \n",
       "\n",
       "         SO2  \n",
       "0  25.062474  \n",
       "1   5.926302  \n",
       "2  32.786668  \n",
       "3   7.099955  \n",
       "4  28.140550  "
      ]
     },
     "execution_count": 95,
     "metadata": {},
     "output_type": "execute_result"
    }
   ],
   "source": [
    "#Display First five rows\n",
    "print(\"First Five rows\")\n",
    "df.head(5)"
   ]
  },
  {
   "cell_type": "code",
   "execution_count": 96,
   "metadata": {},
   "outputs": [
    {
     "name": "stdout",
     "output_type": "stream",
     "text": [
      "Last 6 rows\n"
     ]
    },
    {
     "data": {
      "text/html": [
       "<div>\n",
       "<style scoped>\n",
       "    .dataframe tbody tr th:only-of-type {\n",
       "        vertical-align: middle;\n",
       "    }\n",
       "\n",
       "    .dataframe tbody tr th {\n",
       "        vertical-align: top;\n",
       "    }\n",
       "\n",
       "    .dataframe thead th {\n",
       "        text-align: right;\n",
       "    }\n",
       "</style>\n",
       "<table border=\"1\" class=\"dataframe\">\n",
       "  <thead>\n",
       "    <tr style=\"text-align: right;\">\n",
       "      <th></th>\n",
       "      <th>City</th>\n",
       "      <th>Date</th>\n",
       "      <th>AQI</th>\n",
       "      <th>PM2.5</th>\n",
       "      <th>PM10</th>\n",
       "      <th>NO2</th>\n",
       "      <th>CO</th>\n",
       "      <th>O3</th>\n",
       "      <th>SO2</th>\n",
       "    </tr>\n",
       "  </thead>\n",
       "  <tbody>\n",
       "    <tr>\n",
       "      <th>2556</th>\n",
       "      <td>Pune</td>\n",
       "      <td>2024-12-26</td>\n",
       "      <td>80</td>\n",
       "      <td>95</td>\n",
       "      <td>82</td>\n",
       "      <td>88.809636</td>\n",
       "      <td>0.497454</td>\n",
       "      <td>129.043801</td>\n",
       "      <td>8.657624</td>\n",
       "    </tr>\n",
       "    <tr>\n",
       "      <th>2557</th>\n",
       "      <td>Pune</td>\n",
       "      <td>2024-12-27</td>\n",
       "      <td>419</td>\n",
       "      <td>448</td>\n",
       "      <td>462</td>\n",
       "      <td>26.701714</td>\n",
       "      <td>1.553582</td>\n",
       "      <td>86.973954</td>\n",
       "      <td>44.263423</td>\n",
       "    </tr>\n",
       "    <tr>\n",
       "      <th>2558</th>\n",
       "      <td>Pune</td>\n",
       "      <td>2024-12-28</td>\n",
       "      <td>252</td>\n",
       "      <td>202</td>\n",
       "      <td>182</td>\n",
       "      <td>19.920962</td>\n",
       "      <td>1.599821</td>\n",
       "      <td>41.939484</td>\n",
       "      <td>20.545087</td>\n",
       "    </tr>\n",
       "    <tr>\n",
       "      <th>2559</th>\n",
       "      <td>Pune</td>\n",
       "      <td>2024-12-29</td>\n",
       "      <td>365</td>\n",
       "      <td>414</td>\n",
       "      <td>410</td>\n",
       "      <td>80.815702</td>\n",
       "      <td>1.919950</td>\n",
       "      <td>39.982167</td>\n",
       "      <td>22.646297</td>\n",
       "    </tr>\n",
       "    <tr>\n",
       "      <th>2560</th>\n",
       "      <td>Pune</td>\n",
       "      <td>2024-12-30</td>\n",
       "      <td>253</td>\n",
       "      <td>269</td>\n",
       "      <td>285</td>\n",
       "      <td>66.231614</td>\n",
       "      <td>0.611800</td>\n",
       "      <td>63.966705</td>\n",
       "      <td>10.580135</td>\n",
       "    </tr>\n",
       "    <tr>\n",
       "      <th>2561</th>\n",
       "      <td>Pune</td>\n",
       "      <td>2024-12-31</td>\n",
       "      <td>95</td>\n",
       "      <td>140</td>\n",
       "      <td>117</td>\n",
       "      <td>99.505459</td>\n",
       "      <td>0.122817</td>\n",
       "      <td>112.774765</td>\n",
       "      <td>30.814997</td>\n",
       "    </tr>\n",
       "  </tbody>\n",
       "</table>\n",
       "</div>"
      ],
      "text/plain": [
       "      City        Date  AQI  PM2.5  PM10        NO2        CO          O3  \\\n",
       "2556  Pune  2024-12-26   80     95    82  88.809636  0.497454  129.043801   \n",
       "2557  Pune  2024-12-27  419    448   462  26.701714  1.553582   86.973954   \n",
       "2558  Pune  2024-12-28  252    202   182  19.920962  1.599821   41.939484   \n",
       "2559  Pune  2024-12-29  365    414   410  80.815702  1.919950   39.982167   \n",
       "2560  Pune  2024-12-30  253    269   285  66.231614  0.611800   63.966705   \n",
       "2561  Pune  2024-12-31   95    140   117  99.505459  0.122817  112.774765   \n",
       "\n",
       "            SO2  \n",
       "2556   8.657624  \n",
       "2557  44.263423  \n",
       "2558  20.545087  \n",
       "2559  22.646297  \n",
       "2560  10.580135  \n",
       "2561  30.814997  "
      ]
     },
     "execution_count": 96,
     "metadata": {},
     "output_type": "execute_result"
    }
   ],
   "source": [
    "#Display Last six rows\n",
    "print(\"Last 6 rows\")\n",
    "df.tail(6)"
   ]
  },
  {
   "cell_type": "code",
   "execution_count": 97,
   "metadata": {},
   "outputs": [
    {
     "name": "stdout",
     "output_type": "stream",
     "text": [
      "Summary Stats\n"
     ]
    },
    {
     "data": {
      "text/html": [
       "<div>\n",
       "<style scoped>\n",
       "    .dataframe tbody tr th:only-of-type {\n",
       "        vertical-align: middle;\n",
       "    }\n",
       "\n",
       "    .dataframe tbody tr th {\n",
       "        vertical-align: top;\n",
       "    }\n",
       "\n",
       "    .dataframe thead th {\n",
       "        text-align: right;\n",
       "    }\n",
       "</style>\n",
       "<table border=\"1\" class=\"dataframe\">\n",
       "  <thead>\n",
       "    <tr style=\"text-align: right;\">\n",
       "      <th></th>\n",
       "      <th>AQI</th>\n",
       "      <th>PM2.5</th>\n",
       "      <th>PM10</th>\n",
       "      <th>NO2</th>\n",
       "      <th>CO</th>\n",
       "      <th>O3</th>\n",
       "      <th>SO2</th>\n",
       "    </tr>\n",
       "  </thead>\n",
       "  <tbody>\n",
       "    <tr>\n",
       "      <th>count</th>\n",
       "      <td>2562.000000</td>\n",
       "      <td>2562.000000</td>\n",
       "      <td>2562.000000</td>\n",
       "      <td>2562.000000</td>\n",
       "      <td>2562.000000</td>\n",
       "      <td>2562.000000</td>\n",
       "      <td>2562.000000</td>\n",
       "    </tr>\n",
       "    <tr>\n",
       "      <th>mean</th>\n",
       "      <td>277.635051</td>\n",
       "      <td>276.738486</td>\n",
       "      <td>275.988290</td>\n",
       "      <td>54.151115</td>\n",
       "      <td>1.037476</td>\n",
       "      <td>104.832673</td>\n",
       "      <td>27.746349</td>\n",
       "    </tr>\n",
       "    <tr>\n",
       "      <th>std</th>\n",
       "      <td>128.603738</td>\n",
       "      <td>131.015126</td>\n",
       "      <td>131.900856</td>\n",
       "      <td>25.744072</td>\n",
       "      <td>0.560294</td>\n",
       "      <td>54.878784</td>\n",
       "      <td>12.927527</td>\n",
       "    </tr>\n",
       "    <tr>\n",
       "      <th>min</th>\n",
       "      <td>50.000000</td>\n",
       "      <td>2.000000</td>\n",
       "      <td>-26.000000</td>\n",
       "      <td>10.036926</td>\n",
       "      <td>0.100100</td>\n",
       "      <td>10.045129</td>\n",
       "      <td>5.000524</td>\n",
       "    </tr>\n",
       "    <tr>\n",
       "      <th>25%</th>\n",
       "      <td>166.250000</td>\n",
       "      <td>165.000000</td>\n",
       "      <td>166.000000</td>\n",
       "      <td>32.025372</td>\n",
       "      <td>0.545341</td>\n",
       "      <td>58.169877</td>\n",
       "      <td>16.685076</td>\n",
       "    </tr>\n",
       "    <tr>\n",
       "      <th>50%</th>\n",
       "      <td>276.000000</td>\n",
       "      <td>274.500000</td>\n",
       "      <td>274.000000</td>\n",
       "      <td>53.606459</td>\n",
       "      <td>1.010095</td>\n",
       "      <td>104.345545</td>\n",
       "      <td>27.872017</td>\n",
       "    </tr>\n",
       "    <tr>\n",
       "      <th>75%</th>\n",
       "      <td>388.750000</td>\n",
       "      <td>388.000000</td>\n",
       "      <td>386.000000</td>\n",
       "      <td>76.322683</td>\n",
       "      <td>1.533300</td>\n",
       "      <td>152.515574</td>\n",
       "      <td>38.878445</td>\n",
       "    </tr>\n",
       "    <tr>\n",
       "      <th>max</th>\n",
       "      <td>499.000000</td>\n",
       "      <td>543.000000</td>\n",
       "      <td>559.000000</td>\n",
       "      <td>99.974242</td>\n",
       "      <td>1.999528</td>\n",
       "      <td>199.979607</td>\n",
       "      <td>49.976055</td>\n",
       "    </tr>\n",
       "  </tbody>\n",
       "</table>\n",
       "</div>"
      ],
      "text/plain": [
       "               AQI        PM2.5         PM10          NO2           CO  \\\n",
       "count  2562.000000  2562.000000  2562.000000  2562.000000  2562.000000   \n",
       "mean    277.635051   276.738486   275.988290    54.151115     1.037476   \n",
       "std     128.603738   131.015126   131.900856    25.744072     0.560294   \n",
       "min      50.000000     2.000000   -26.000000    10.036926     0.100100   \n",
       "25%     166.250000   165.000000   166.000000    32.025372     0.545341   \n",
       "50%     276.000000   274.500000   274.000000    53.606459     1.010095   \n",
       "75%     388.750000   388.000000   386.000000    76.322683     1.533300   \n",
       "max     499.000000   543.000000   559.000000    99.974242     1.999528   \n",
       "\n",
       "                O3          SO2  \n",
       "count  2562.000000  2562.000000  \n",
       "mean    104.832673    27.746349  \n",
       "std      54.878784    12.927527  \n",
       "min      10.045129     5.000524  \n",
       "25%      58.169877    16.685076  \n",
       "50%     104.345545    27.872017  \n",
       "75%     152.515574    38.878445  \n",
       "max     199.979607    49.976055  "
      ]
     },
     "execution_count": 97,
     "metadata": {},
     "output_type": "execute_result"
    }
   ],
   "source": [
    "#Statsistical Sumamry\n",
    "print(\"Summary Stats\")\n",
    "df.describe()"
   ]
  },
  {
   "cell_type": "code",
   "execution_count": 98,
   "metadata": {},
   "outputs": [
    {
     "name": "stdout",
     "output_type": "stream",
     "text": [
      "Mean AQI:\n",
      "{'Bangalore': 279.54371584699453, 'Chennai': 274.3142076502732, 'Delhi': 279.1530054644809, 'Hyderabad': 280.3551912568306, 'Kolkata': 265.9016393442623, 'Mumbai': 287.7978142076503, 'Pune': 276.379781420765}\n"
     ]
    }
   ],
   "source": [
    "\n",
    "city = df[\"City\"]\n",
    "city_grouped  =  np.unique(df[\"City\"])\n",
    "AQI = df[\"AQI\"]\n",
    "#Finding mean AQI by grouping AQI by city and finding its mean\n",
    "grouped_data = {category: AQI[city == category].mean() for category in city_grouped}\n",
    "print(\"Mean AQI:\")\n",
    "print(grouped_data)\n",
    "\n",
    "\n",
    "\n",
    "\n",
    "\n"
   ]
  },
  {
   "cell_type": "code",
   "execution_count": 99,
   "metadata": {},
   "outputs": [
    {
     "name": "stdout",
     "output_type": "stream",
     "text": [
      "Mean PM2.5\n",
      "{'Bangalore': 278.46994535519127, 'Chennai': 275.1393442622951, 'Delhi': 279.89890710382514, 'Hyderabad': 277.8251366120219, 'Kolkata': 264.6639344262295, 'Mumbai': 286.0464480874317, 'Pune': 275.1256830601093}\n"
     ]
    }
   ],
   "source": [
    "print(\"Mean PM2.5\")\n",
    "AQI = df[\"PM2.5\"]\n",
    "#Finding mean PM2.5 by grouping PM2.5 by city and finding its mean\n",
    "grouped_data = {category: AQI[city == category].mean() for category in city_grouped}\n",
    "print(grouped_data)"
   ]
  },
  {
   "cell_type": "code",
   "execution_count": 100,
   "metadata": {},
   "outputs": [
    {
     "name": "stdout",
     "output_type": "stream",
     "text": [
      "Mean PM10\n",
      "{'Bangalore': 277.75956284153006, 'Chennai': 273.26502732240436, 'Delhi': 279.3497267759563, 'Hyderabad': 276.45628415300547, 'Kolkata': 263.6448087431694, 'Mumbai': 286.6693989071038, 'Pune': 274.77322404371586}\n"
     ]
    }
   ],
   "source": [
    "print(\"Mean PM10\")\n",
    "AQI = df[\"PM10\"]\n",
    "#Finding mean PM10 by grouping PM10 by city and finding its mean\n",
    "grouped_data = {category: AQI[city == category].mean() for category in city_grouped}\n",
    "print(grouped_data)"
   ]
  },
  {
   "cell_type": "code",
   "execution_count": 101,
   "metadata": {},
   "outputs": [
    {
     "name": "stdout",
     "output_type": "stream",
     "text": [
      "City with Max AQI : Mumbai\n"
     ]
    }
   ],
   "source": [
    "AQI = df[\"AQI\"]\n",
    "#Finding Average AQI by grouping AQI by city and finding its mean\n",
    "grouped_data = {category: AQI[city == category].sum()/len(AQI[city == category]) for category in city_grouped}\n",
    "#Getting key of max valued value in grouped data\n",
    "maxi = max(grouped_data, key=grouped_data.get)\n",
    "print(f\"City with Max AQI : {maxi}\")\n"
   ]
  },
  {
   "cell_type": "code",
   "execution_count": 102,
   "metadata": {},
   "outputs": [
    {
     "name": "stdout",
     "output_type": "stream",
     "text": [
      "City with Max AQI : Kolkata\n"
     ]
    }
   ],
   "source": [
    "#Getting key of mim valued value in grouped data\n",
    "mini = min(grouped_data, key=grouped_data.get)\n",
    "print(f\"City with Max AQI : {mini}\")\n"
   ]
  }
 ],
 "metadata": {
  "kernelspec": {
   "display_name": "base",
   "language": "python",
   "name": "python3"
  },
  "language_info": {
   "codemirror_mode": {
    "name": "ipython",
    "version": 3
   },
   "file_extension": ".py",
   "mimetype": "text/x-python",
   "name": "python",
   "nbconvert_exporter": "python",
   "pygments_lexer": "ipython3",
   "version": "3.12.4"
  }
 },
 "nbformat": 4,
 "nbformat_minor": 2
}
