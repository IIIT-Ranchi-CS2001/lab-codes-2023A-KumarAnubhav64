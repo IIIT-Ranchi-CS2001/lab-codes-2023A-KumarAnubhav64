{
 "cells": [
  {
   "cell_type": "code",
   "execution_count": 1,
   "id": "3dbe28ac",
   "metadata": {},
   "outputs": [
    {
     "data": {
      "text/plain": [
       "6.4031242374328485"
      ]
     },
     "execution_count": 1,
     "metadata": {},
     "output_type": "execute_result"
    }
   ],
   "source": [
    "import math\n",
    "\n",
    "point1 = (3, 4, 5)\n",
    "point2 = (7, 1, 9)\n",
    "\n",
    "# Euclidean distance calculation\n",
    "distance = math.sqrt(sum((p1 - p2) ** 2 for p1, p2 in zip(point1, point2)))\n",
    "distance"
   ]
  },
  {
   "cell_type": "code",
   "execution_count": 2,
   "id": "78a5ab7d",
   "metadata": {},
   "outputs": [
    {
     "data": {
      "text/plain": [
       "[('Student3', 103, 75),\n",
       " ('Student1', 101, 80),\n",
       " ('Student4', 104, 85),\n",
       " ('Student5', 105, 90),\n",
       " ('Student2', 102, 95)]"
      ]
     },
     "execution_count": 2,
     "metadata": {},
     "output_type": "execute_result"
    }
   ],
   "source": [
    "\n",
    "names = [f\"Student{i}\" for i in range(1, 6)]\n",
    "roll_numbers = [101, 102, 103, 104, 105]\n",
    "marks = [80, 95, 75, 85, 90]\n",
    "\n",
    "student_details = sorted(list(zip(names, roll_numbers, marks)), key=lambda x: x[2])\n",
    "student_details"
   ]
  },
  {
   "cell_type": "code",
   "execution_count": 3,
   "id": "3b1a0751",
   "metadata": {},
   "outputs": [
    {
     "data": {
      "text/plain": [
       "[('Student3', 103, 75),\n",
       " ('Student1', 101, 80),\n",
       " ('Student4', 104, 85),\n",
       " ('Student5', 105, 90),\n",
       " ('Student2', 102, 95)]"
      ]
     },
     "execution_count": 3,
     "metadata": {},
     "output_type": "execute_result"
    }
   ],
   "source": [
    "\n",
    "student_details_manual = []\n",
    "for i in range(len(names)):\n",
    "    student_details_manual.append((names[i], roll_numbers[i], marks[i]))\n",
    "\n",
    "for i in range(len(student_details_manual)):\n",
    "    for j in range(i + 1, len(student_details_manual)):\n",
    "        if student_details_manual[i][2] > student_details_manual[j][2]:\n",
    "            student_details_manual[i], student_details_manual[j] = student_details_manual[j], student_details_manual[i]\n",
    "student_details_manual"
   ]
  },
  {
   "cell_type": "code",
   "execution_count": 4,
   "id": "74f04801",
   "metadata": {},
   "outputs": [
    {
     "data": {
      "text/plain": [
       "{'h': 1, 'e': 1, 'l': 3, 'o': 2, ' ': 1, 'w': 1, 'r': 1, 'd': 1}"
      ]
     },
     "execution_count": 4,
     "metadata": {},
     "output_type": "execute_result"
    }
   ],
   "source": [
    "\n",
    "from collections import Counter\n",
    "\n",
    "input_string = \"hello world\"\n",
    "letter_count = dict(Counter(input_string))\n",
    "letter_count"
   ]
  }
 ],
 "metadata": {
  "kernelspec": {
   "display_name": "base",
   "language": "python",
   "name": "python3"
  },
  "language_info": {
   "codemirror_mode": {
    "name": "ipython",
    "version": 3
   },
   "file_extension": ".py",
   "mimetype": "text/x-python",
   "name": "python",
   "nbconvert_exporter": "python",
   "pygments_lexer": "ipython3",
   "version": "3.12.4"
  }
 },
 "nbformat": 4,
 "nbformat_minor": 5
}
