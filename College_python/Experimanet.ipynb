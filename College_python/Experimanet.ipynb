{
 "cells": [
  {
   "cell_type": "code",
   "execution_count": 5,
   "metadata": {},
   "outputs": [
    {
     "name": "stdout",
     "output_type": "stream",
     "text": [
      "1   1\n",
      "2   4\n",
      "3   9\n",
      "4   16\n",
      "5   25\n",
      "6   36\n",
      "7   49\n",
      "8   64\n",
      "9   81\n",
      "10   100\n",
      "11   121\n"
     ]
    }
   ],
   "source": [
    "i =  int(input())\n",
    "\n",
    "for j in range(1,i):\n",
    "  print(f\"{j}   {j**2}\")"
   ]
  },
  {
   "cell_type": "code",
   "execution_count": 22,
   "metadata": {},
   "outputs": [
    {
     "name": "stdout",
     "output_type": "stream",
     "text": [
      "sum : 15  Number : 12345\n"
     ]
    }
   ],
   "source": [
    "i = 12345  # Example number\n",
    "sum = 0\n",
    "num = i  # Temporary variable to iterate through each digit\n",
    "\n",
    "while num > 0:\n",
    "    digit = num % 10  # Get the last digit\n",
    "    sum += int(digit)\n",
    "    num //= 10  # Remove the last digit from the number\n",
    "\n",
    "print(f\"sum : {sum}  Number : {i}\")\n"
   ]
  },
  {
   "cell_type": "code",
   "execution_count": 9,
   "metadata": {},
   "outputs": [
    {
     "name": "stdout",
     "output_type": "stream",
     "text": [
      "0 1 1 2 3 5 8 13 21 34 55 89 "
     ]
    }
   ],
   "source": [
    "\n",
    "n = int(input(\"Enter the number of terms: \"))\n",
    "a, b = 0, 1\n",
    "count = 0\n",
    "\n",
    "    # Print Fibonacci sequence\n",
    "while count < n:\n",
    "    print(a, end=\" \")\n",
    "        # Update values of a and b\n",
    "    a, b = b, a + b\n",
    "    count += 1\n",
    "\n",
    "# Input for number of terms\n",
    "\n"
   ]
  },
  {
   "cell_type": "code",
   "execution_count": 10,
   "metadata": {},
   "outputs": [
    {
     "name": "stdout",
     "output_type": "stream",
     "text": [
      "12x1=12\n",
      "12x2=24\n",
      "12x3=36\n",
      "12x4=48\n",
      "12x5=60\n",
      "12x6=72\n",
      "12x7=84\n",
      "12x8=96\n",
      "12x9=108\n",
      "12x10=120\n",
      "12x11=132\n",
      "12x12=144\n",
      "12x13=156\n"
     ]
    }
   ],
   "source": [
    "n =  int(input(\"\"))\n",
    "limit = int(input())\n",
    "\n",
    "for i in range(1,limit+1):\n",
    "  mul= 0\n",
    "  for _ in range(0,i):\n",
    "    mul+=n\n",
    "  print(f'{n}x{i}={mul}')"
   ]
  },
  {
   "cell_type": "code",
   "execution_count": 17,
   "metadata": {},
   "outputs": [
    {
     "name": "stdout",
     "output_type": "stream",
     "text": [
      "False\n"
     ]
    }
   ],
   "source": [
    "s =  input()\n",
    "flag = True\n",
    "for i in s:\n",
    "  if not(i.isalnum()):\n",
    "    flag  = False\n",
    "    break\n",
    "else:\n",
    "  pass\n",
    "print(flag)"
   ]
  },
  {
   "cell_type": "code",
   "execution_count": 20,
   "metadata": {},
   "outputs": [
    {
     "name": "stdout",
     "output_type": "stream",
     "text": [
      "Required string not found\n",
      "2 is count of q\n"
     ]
    }
   ],
   "source": [
    "s,r =  map(str,input().split())\n",
    "count = 0\n",
    "for i in range(0,len(s)):\n",
    "  if s[i] == r:\n",
    "    count += 1\n",
    "else:\n",
    "  print(\"Required string not found\")\n",
    "print(f\"{count} is count of {r}\")"
   ]
  }
 ],
 "metadata": {
  "kernelspec": {
   "display_name": "base",
   "language": "python",
   "name": "python3"
  },
  "language_info": {
   "codemirror_mode": {
    "name": "ipython",
    "version": 3
   },
   "file_extension": ".py",
   "mimetype": "text/x-python",
   "name": "python",
   "nbconvert_exporter": "python",
   "pygments_lexer": "ipython3",
   "version": "3.12.4"
  }
 },
 "nbformat": 4,
 "nbformat_minor": 2
}
