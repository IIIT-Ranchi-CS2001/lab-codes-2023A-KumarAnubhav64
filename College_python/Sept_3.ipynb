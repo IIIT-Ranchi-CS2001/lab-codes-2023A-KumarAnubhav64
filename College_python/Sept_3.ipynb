{
 "cells": [
  {
   "cell_type": "code",
   "execution_count": 3,
   "metadata": {},
   "outputs": [
    {
     "name": "stdout",
     "output_type": "stream",
     "text": [
      "Saregamapa\n",
      "regamapa\n",
      "gamapa\n",
      "mapa\n",
      "pa\n"
     ]
    }
   ],
   "source": [
    "s = 'Saregamapa'\n",
    "\n",
    "while(s):\n",
    "  print(s)\n",
    "  s = s[2:]"
   ]
  },
  {
   "cell_type": "code",
   "execution_count": 5,
   "metadata": {},
   "outputs": [
    {
     "name": "stdout",
     "output_type": "stream",
     "text": [
      "('hello', 'world') {'a': 'Kumar'}\n"
     ]
    }
   ],
   "source": [
    "def hello(*args,**kwargs):\n",
    "  print(args,kwargs)\n",
    "hello('hello','world',a = 'Kumar')"
   ]
  }
 ],
 "metadata": {
  "kernelspec": {
   "display_name": "base",
   "language": "python",
   "name": "python3"
  },
  "language_info": {
   "codemirror_mode": {
    "name": "ipython",
    "version": 3
   },
   "file_extension": ".py",
   "mimetype": "text/x-python",
   "name": "python",
   "nbconvert_exporter": "python",
   "pygments_lexer": "ipython3",
   "version": "3.12.4"
  }
 },
 "nbformat": 4,
 "nbformat_minor": 2
}
